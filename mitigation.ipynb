{
 "cells": [
  {
   "attachments": {},
   "cell_type": "markdown",
   "metadata": {},
   "source": [
    "# Tutorial of the mitigation\n",
    "Before reading this tutorial, we suggest you read the sampling tutorial."
   ]
  },
  {
   "cell_type": "code",
   "execution_count": 1,
   "metadata": {},
   "outputs": [],
   "source": [
    "import sys\n",
    "\n",
    "sys.path.append(\"../\")\n",
    "from utils.challenge_2023 import ChallengeSampling\n",
    "from quri_parts.core.measurement import bitwise_commuting_pauli_measurement\n",
    "from quri_parts.core.sampling.shots_allocator import create_equipartition_shots_allocator\n",
    "from quri_parts.core.state import GeneralCircuitQuantumState\n",
    "\n",
    "# define challenge_sampling with or without noise\n",
    "challenge_sampling = ChallengeSampling(noise=True)"
   ]
  },
  {
   "cell_type": "markdown",
   "metadata": {},
   "source": [
    "# Prepare a circuit"
   ]
  },
  {
   "cell_type": "code",
   "execution_count": 2,
   "metadata": {},
   "outputs": [],
   "source": [
    "from math import pi\n",
    "from quri_parts.circuit import QuantumCircuit\n",
    "# circuit with 4 qubits\n",
    "circuit = QuantumCircuit(4)\n",
    "circuit.add_X_gate(0)\n",
    "circuit.add_H_gate(1)\n",
    "circuit.add_Y_gate(2)\n",
    "circuit.add_CNOT_gate(1, 2)\n",
    "circuit.add_RX_gate(3, pi/4)\n",
    "\n",
    "# circuit state\n",
    "circuit_state = GeneralCircuitQuantumState(4, circuit)"
   ]
  },
  {
   "cell_type": "markdown",
   "metadata": {},
   "source": [
    "# Define sampler and sampling_estilator"
   ]
  },
  {
   "cell_type": "code",
   "execution_count": 3,
   "metadata": {},
   "outputs": [],
   "source": [
    "# choose hardware type\n",
    "hardware_type = \"sc\"\n",
    "\n",
    "# create concurrent sampler\n",
    "concurrent_sampler = challenge_sampling.create_concurrent_sampler(hardware_type)\n",
    "\n",
    "# define some inputs for the sampling_estimator\n",
    "shots_allocator = create_equipartition_shots_allocator()\n",
    "measurement_factory = bitwise_commuting_pauli_measurement\n",
    "n_shots = 10000\n",
    "\n",
    "# create concurrent sampling estimator\n",
    "concurrent_estimator = challenge_sampling.create_concurrent_sampling_estimator(\n",
    "    n_shots, measurement_factory, shots_allocator, hardware_type\n",
    ")"
   ]
  },
  {
   "cell_type": "markdown",
   "metadata": {},
   "source": [
    "# Prepare an operator"
   ]
  },
  {
   "cell_type": "code",
   "execution_count": 4,
   "metadata": {},
   "outputs": [
    {
     "name": "stdout",
     "output_type": "stream",
     "text": [
      "0.25*Z0 + 2.0*Z1 Z2 + 0.5*X1 X2 + 1.0*Z1 Y3 + 1.5*Z2 Y3 + 2.0*X1 Y3 + 3.0*I\n"
     ]
    }
   ],
   "source": [
    "# define an operator to be estimated\n",
    "\n",
    "from quri_parts.core.operator import Operator, pauli_label, PAULI_IDENTITY\n",
    "op = Operator({\n",
    "    pauli_label(\"Z0\"): 0.25,\n",
    "    pauli_label(\"Z1 Z2\"): 2.0,\n",
    "    pauli_label(\"X1 X2\"): 0.5,\n",
    "    pauli_label(\"Z1 Y3\"): 1.0,\n",
    "    pauli_label(\"Z2 Y3\"): 1.5,\n",
    "    pauli_label(\"X1 Y3\"): 2.0,\n",
    "    PAULI_IDENTITY: 3.0,\n",
    "})\n",
    "print(op)"
   ]
  },
  {
   "cell_type": "markdown",
   "metadata": {},
   "source": [
    "# Examples of mitigation\n",
    "In this tutorial, we will see how to use three mitigation methods: Zero Noise Extrapolation (ZNE) and Readout mitigation. These mitigations are implemented in QURI Parts, and although we will not described here, the Clifford Data Regression (CDR) is also implemented. So you can use without any implementation by yourself."
   ]
  },
  {
   "cell_type": "markdown",
   "metadata": {},
   "source": [
    "## ZNE"
   ]
  },
  {
   "cell_type": "code",
   "execution_count": 5,
   "metadata": {},
   "outputs": [
    {
     "name": "stdout",
     "output_type": "stream",
     "text": [
      "zne_estimated_value :1.8283750000000007 \n"
     ]
    }
   ],
   "source": [
    "from quri_parts.algo.mitigation.zne import (\n",
    "    create_zne_estimator,\n",
    "    create_folding_left,\n",
    "    create_polynomial_extrapolate,\n",
    ")\n",
    "\n",
    "# choose an extrapolation method\n",
    "extrapolate_method = create_polynomial_extrapolate(order=2)\n",
    "# choose how folding your circuit\n",
    "folding_method = create_folding_left()\n",
    "# define scale factors\n",
    "scale_factors = [1, 3, 5]\n",
    "\n",
    "# construct estimator by using zne (only concurrent estimator can be used)\n",
    "zne_estimator = create_zne_estimator(\n",
    "    concurrent_estimator, scale_factors, extrapolate_method, folding_method\n",
    ")\n",
    "# by using this estimator, you can obtain an estimated value with ZNE\n",
    "zne_estimated_value = zne_estimator(op, circuit_state)\n",
    "\n",
    "print(f\"zne_estimated_value :{zne_estimated_value.value} \")"
   ]
  },
  {
   "cell_type": "markdown",
   "metadata": {},
   "source": [
    "## Readout "
   ]
  },
  {
   "cell_type": "code",
   "execution_count": 6,
   "metadata": {},
   "outputs": [
    {
     "name": "stdout",
     "output_type": "stream",
     "text": [
      "readout_counts :{1: 82.88503092380893, 2: 5.512908950692388, 3: 3336.0174283030706, 4: 12.048209762094709, 5: 4624.142778689079, 6: 0.053767094481725314, 7: 66.37259060403737, 8: 0.6723501689279276, 9: 8.50901134184821, 11: 746.5141855301059, 13: 1104.4168674076482, 15: 21.14476003643954} \n"
     ]
    }
   ],
   "source": [
    "from quri_parts.algo.mitigation.readout_mitigation import (\n",
    "    create_filter_matrix,\n",
    "    create_readout_mitigation_concurrent_sampler,\n",
    "    create_readout_mitigation_sampler,\n",
    "    readout_mitigation,\n",
    ")\n",
    "\n",
    "# sampler by using readout mitigation (only concurrent sampler can be used)\n",
    "readout_sampler = create_readout_mitigation_sampler(\n",
    "    qubit_count=4, sampler=concurrent_sampler, shots=n_shots\n",
    ")\n",
    "readout_counts = readout_sampler(circuit, n_shots)\n",
    "\n",
    "print(f\"readout_counts :{readout_counts} \")"
   ]
  },
  {
   "attachments": {},
   "cell_type": "markdown",
   "metadata": {},
   "source": [
    "Or you can directly get the expectaion value through the readout mitigation by using `sampling_estimate`."
   ]
  },
  {
   "cell_type": "code",
   "execution_count": 8,
   "metadata": {},
   "outputs": [
    {
     "name": "stdout",
     "output_type": "stream",
     "text": [
      "readout_eval :1.4678335248951688 \n"
     ]
    }
   ],
   "source": [
    "from quri_parts.core.estimator.sampling import sampling_estimate\n",
    "\n",
    "readout_concurrent_sampler = create_readout_mitigation_concurrent_sampler(\n",
    "    qubit_count=4, sampler=concurrent_sampler, shots=n_shots\n",
    ")\n",
    "\n",
    "readout_eval = sampling_estimate(\n",
    "    op, circuit_state, n_shots, readout_concurrent_sampler, measurement_factory, shots_allocator\n",
    ")\n",
    "\n",
    "print(f\"readout_eval :{readout_eval.value} \")"
   ]
  },
  {
   "cell_type": "code",
   "execution_count": null,
   "metadata": {},
   "outputs": [],
   "source": []
  }
 ],
 "metadata": {
  "kernelspec": {
   "display_name": "Python 3.9.8 64-bit ('3.9.8')",
   "language": "python",
   "name": "python3"
  },
  "language_info": {
   "codemirror_mode": {
    "name": "ipython",
    "version": 3
   },
   "file_extension": ".py",
   "mimetype": "text/x-python",
   "name": "python",
   "nbconvert_exporter": "python",
   "pygments_lexer": "ipython3",
   "version": "3.9.8"
  },
  "orig_nbformat": 4,
  "vscode": {
   "interpreter": {
    "hash": "76ef2d858d8e467d5ee8f2094e44d7121b251fbb905b85b2756d95d600e7591f"
   }
  }
 },
 "nbformat": 4,
 "nbformat_minor": 2
}
