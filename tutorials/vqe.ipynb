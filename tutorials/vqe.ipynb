{
 "cells": [
  {
   "attachments": {},
   "cell_type": "markdown",
   "metadata": {},
   "source": [
    "# Tutorial of VQE\n",
    "In this example, we will demonstrate the variational algorithms, *variational quantum eigensolver* (VQE), using the sampling estimator of this challenge. The code of VQE is based on the the quri-parts tutorial."
   ]
  },
  {
   "cell_type": "code",
   "execution_count": 1,
   "metadata": {},
   "outputs": [],
   "source": [
    "import sys\n",
    "sys.path.append(\"../\")\n",
    "\n",
    "import numpy as np\n",
    "\n",
    "from quri_parts.algo.ansatz import HardwareEfficient\n",
    "from quri_parts.algo.optimizer import OptimizerStatus, Adam\n",
    "from quri_parts.core.estimator.gradient import parameter_shift_gradient_estimates\n",
    "from quri_parts.core.state import ParametricCircuitQuantumState\n",
    "from quri_parts.core.measurement import bitwise_commuting_pauli_measurement\n",
    "from quri_parts.core.sampling.shots_allocator import (\n",
    "    create_equipartition_shots_allocator,\n",
    ")\n",
    "from quri_parts.core.operator import Operator, pauli_label, PAULI_IDENTITY\n",
    "from utils.challenge_2023 import ChallengeSampling, QuantumCircuitTimeExceededError"
   ]
  },
  {
   "cell_type": "markdown",
   "metadata": {},
   "source": [
    "## Setup"
   ]
  },
  {
   "cell_type": "code",
   "execution_count": 2,
   "metadata": {},
   "outputs": [],
   "source": [
    "n_qubits = 4\n",
    "\n",
    "# define an operator to be applied VQE \n",
    "hamiltonian = Operator({\n",
    "    pauli_label(\"Z0\"): 0.25,\n",
    "    pauli_label(\"Z1 Z2\"): 2.0,\n",
    "    pauli_label(\"X1 X2\"): 0.5 + 0.25j,\n",
    "    pauli_label(\"Z1 Y3\"): 1.0j,\n",
    "    pauli_label(\"Z2 Y3\"): 1.5 + 0.5j,\n",
    "    pauli_label(\"X1 Y3\"): 2.0j,\n",
    "    PAULI_IDENTITY: 3.0,\n",
    "})\n",
    "\n",
    "# define an ansatz\n",
    "\n",
    "hw_ansatz = HardwareEfficient(qubit_count=n_qubits, reps=1)\n",
    "\n",
    "# make a parametric state\n",
    "parametric_state = ParametricCircuitQuantumState(n_qubits, hw_ansatz)"
   ]
  },
  {
   "cell_type": "markdown",
   "metadata": {},
   "source": [
    "In order to use the sampling_estimator, we need to define some inputs. See the sampling tutorial. "
   ]
  },
  {
   "cell_type": "code",
   "execution_count": 3,
   "metadata": {},
   "outputs": [],
   "source": [
    "hardware_type = \"sc\"\n",
    "shots_allocator = create_equipartition_shots_allocator()\n",
    "measurement_factory = bitwise_commuting_pauli_measurement\n",
    "n_shots = 10**5"
   ]
  },
  {
   "cell_type": "markdown",
   "metadata": {},
   "source": [
    "Define a sampling estimator by using the above inputs. In this tutorial, we use the noiseless sampling_estimator."
   ]
  },
  {
   "cell_type": "code",
   "execution_count": 4,
   "metadata": {},
   "outputs": [],
   "source": [
    "challenge_sampling = ChallengeSampling(noise=False)\n",
    "sampling_estimator = challenge_sampling.create_concurrent_parametric_sampling_estimator(\n",
    "                        n_shots,\n",
    "                        measurement_factory,\n",
    "                        shots_allocator,\n",
    "                        hardware_type\n",
    "                    )"
   ]
  },
  {
   "cell_type": "markdown",
   "metadata": {},
   "source": [
    "# Define some functions to construct VQE\n",
    "In this challenge, there is a limitation to the circuit run-time. When the sampling-estimator (even in the sampler) reach the limit, they output an error `QuantumCircuitTimeExceededError` . So when the error is output, you can get the previous result by using `TryExcept`."
   ]
  },
  {
   "cell_type": "code",
   "execution_count": 5,
   "metadata": {},
   "outputs": [],
   "source": [
    "# define an optimizer\n",
    "adam_optimizer = Adam(ftol=10e-5)\n",
    "\n",
    "# define a cost function\n",
    "\n",
    "def cost_fn(hamiltonian, parametric_state, param_values, estimator):\n",
    "    estimate = estimator(hamiltonian, parametric_state, [param_values])\n",
    "    return estimate[0].value.real\n",
    "\n",
    "def vqe(hamiltonian, parametric_state, estimator, init_params, optimizer):\n",
    "    opt_state = optimizer.get_init_state(init_params)\n",
    "\n",
    "    def c_fn(param_values):\n",
    "        return cost_fn(hamiltonian, parametric_state, param_values, estimator)\n",
    "\n",
    "    def g_fn(param_values):\n",
    "        grad = parameter_shift_gradient_estimates(hamiltonian,parametric_state, param_values, estimator)\n",
    "        # In this tutorial, we use the parameter shift rule to calculate the gradient\n",
    "        return np.asarray([i.real for i in grad.values])\n",
    "\n",
    "    while True:\n",
    "        try:\n",
    "            opt_state = optimizer.step(opt_state, c_fn, g_fn)\n",
    "        except QuantumCircuitTimeExceededError:\n",
    "            print(\"Reached the limit of shots\")\n",
    "            return opt_state\n",
    "\n",
    "        if opt_state.status == OptimizerStatus.FAILED:\n",
    "            print(\"Optimizer failed\")\n",
    "            break\n",
    "        if opt_state.status == OptimizerStatus.CONVERGED:\n",
    "            print(\"Optimizer converged\")\n",
    "            break\n",
    "    return opt_state"
   ]
  },
  {
   "cell_type": "markdown",
   "metadata": {},
   "source": [
    "## Run VQE"
   ]
  },
  {
   "cell_type": "code",
   "execution_count": 6,
   "metadata": {},
   "outputs": [
    {
     "name": "stdout",
     "output_type": "stream",
     "text": [
      "Optimizer converged\n",
      "n_iter 255\n",
      "vqe_energy -1.311961119611196\n",
      "exact energy: -1.8696938456699062\n"
     ]
    }
   ],
   "source": [
    "# set initial parameters\n",
    "init_param = [i for i in range(hw_ansatz.parameter_count)]\n",
    "\n",
    "# vqe part\n",
    "result = vqe(hamiltonian, parametric_state, sampling_estimator, init_param, adam_optimizer)\n",
    "\n",
    "# exact value\n",
    "exact_value = -1.8696938456699062\n",
    "\n",
    "print(\"n_iter\", result.niter)\n",
    "print(\"vqe_energy\", result.cost)\n",
    "print(\"exact energy:\", exact_value)\n",
    "challenge_sampling.reset()"
   ]
  }
 ],
 "metadata": {
  "kernelspec": {
   "display_name": "Python 3.9.8 64-bit ('3.9.8')",
   "language": "python",
   "name": "python3"
  },
  "language_info": {
   "codemirror_mode": {
    "name": "ipython",
    "version": 3
   },
   "file_extension": ".py",
   "mimetype": "text/x-python",
   "name": "python",
   "nbconvert_exporter": "python",
   "pygments_lexer": "ipython3",
   "version": "3.9.8"
  },
  "orig_nbformat": 4,
  "vscode": {
   "interpreter": {
    "hash": "76ef2d858d8e467d5ee8f2094e44d7121b251fbb905b85b2756d95d600e7591f"
   }
  }
 },
 "nbformat": 4,
 "nbformat_minor": 2
}
