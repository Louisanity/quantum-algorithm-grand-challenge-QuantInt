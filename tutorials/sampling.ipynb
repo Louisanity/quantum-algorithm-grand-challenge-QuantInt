{
 "cells": [
  {
   "attachments": {},
   "cell_type": "markdown",
   "metadata": {},
   "source": [
    "# Tutorial of sampling and sampling-estimator\n",
    "\n",
    "In this tutorial, we will see how to use the sampling and sampling-estimator functions of this challenge.  "
   ]
  },
  {
   "cell_type": "code",
   "execution_count": 1,
   "metadata": {},
   "outputs": [],
   "source": [
    "# import \n",
    "from math import pi\n",
    "from quri_parts.circuit import QuantumCircuit\n",
    "from quri_parts.core.operator import Operator, pauli_label, PAULI_IDENTITY\n",
    "from quri_parts.core.measurement import bitwise_commuting_pauli_measurement\n",
    "from quri_parts.core.state import GeneralCircuitQuantumState"
   ]
  },
  {
   "attachments": {},
   "cell_type": "markdown",
   "metadata": {},
   "source": [
    "## ChallengeSampling\n",
    "In this challenge, all participants are required to use the provided sampling function. In order to this, it needs to import `ChallengeSampling`. The `ChallengeSampling` itself (defined in utills.challenge_2023.py) is a **Class** and you need to define a concrete instance `challenge_sampling`. From this instance you can construct a sampler and sampling_estimator. Here you can choose whether you will add the noise or not."
   ]
  },
  {
   "cell_type": "code",
   "execution_count": 2,
   "metadata": {},
   "outputs": [],
   "source": [
    "import sys\n",
    "\n",
    "sys.path.append(\"../\")\n",
    "from utils.challenge_2023 import ChallengeSampling\n",
    "\n",
    "# define challenge_sampling with or without noise\n",
    "challenge_sampling = ChallengeSampling(noise=True)"
   ]
  },
  {
   "cell_type": "markdown",
   "metadata": {},
   "source": [
    "## Prepare a circit"
   ]
  },
  {
   "cell_type": "code",
   "execution_count": 3,
   "metadata": {},
   "outputs": [],
   "source": [
    "# circuit with 4 qubits\n",
    "circuit = QuantumCircuit(4)\n",
    "circuit.add_X_gate(0)\n",
    "circuit.add_H_gate(1)\n",
    "circuit.add_Y_gate(2)\n",
    "circuit.add_CNOT_gate(1, 2)\n",
    "circuit.add_RX_gate(3, pi/4)"
   ]
  },
  {
   "cell_type": "markdown",
   "metadata": {},
   "source": [
    "# Sampler\n",
    "When performing a sampling measurement for a circuit, you need a sampler function. By using the instance `challenge_sampling`, you can construct the sampler as follows."
   ]
  },
  {
   "cell_type": "code",
   "execution_count": 4,
   "metadata": {},
   "outputs": [
    {
     "name": "stdout",
     "output_type": "stream",
     "text": [
      "counts: Counter({5: 442, 3: 324, 13: 114, 11: 84, 1: 14, 7: 10, 2: 5, 4: 3, 9: 3, 15: 1})\n"
     ]
    }
   ],
   "source": [
    "# choose hardware type\n",
    "hardware_type = \"sc\"\n",
    "\n",
    "# create sampler\n",
    "sampler = challenge_sampling.create_sampler(hardware_type)\n",
    "sampling_result = sampler(circuit, n_shots=1000)\n",
    "print(f\"counts: {sampling_result}\")"
   ]
  },
  {
   "attachments": {},
   "cell_type": "markdown",
   "metadata": {},
   "source": [
    "A sampler receives two arguments: a circuit to be sampled and a number of repeated samplings (shots). The returned value is a mapping (dict) with the following keys and values:\n",
    "\n",
    "- **Keys** Bitstrings of measurement outcomes, encoded as int. Each measured bit of each qubit are ordered from the least significant bit to the most significant bit. For example, when qubit 0 and qubit 2 are measured to be in  while the others are in , the bitstring is 0b0101.\n",
    "\n",
    "- **Values** Counts of times for which each bitstring is measured. A sum of all counts is equal to the specified shots."
   ]
  },
  {
   "cell_type": "markdown",
   "metadata": {},
   "source": [
    "## Concurrent sampler\n",
    "When performing a sampling measurement for some circuits, you can use a concurrent sampler. You can construct the concurrent sampler as same as the usual sampler."
   ]
  },
  {
   "cell_type": "code",
   "execution_count": 5,
   "metadata": {},
   "outputs": [
    {
     "name": "stdout",
     "output_type": "stream",
     "text": [
      "concurrent_counts: [Counter({5: 479, 3: 375, 13: 61, 11: 47, 7: 12, 1: 9, 2: 7, 4: 5, 15: 4, 12: 1}), Counter({4: 533, 2: 287, 0: 105, 6: 75})]\n"
     ]
    }
   ],
   "source": [
    "# another circuit with 4 qubits\n",
    "circuit2 = QuantumCircuit(4)\n",
    "circuit2.add_T_gate(0)\n",
    "circuit2.add_H_gate(1)\n",
    "circuit2.add_RY_gate(2, 3*pi/4)\n",
    "circuit2.add_CNOT_gate(1, 2)\n",
    "circuit2.add_RZ_gate(3, pi)\n",
    "\n",
    "# create concurrent sampler\n",
    "concurrent_sampler = challenge_sampling.create_concurrent_sampler(hardware_type)\n",
    "concurrent_counts = concurrent_sampler([(circuit, 1000), (circuit2, 1000)])\n",
    "\n",
    "print(f\"concurrent_counts: {concurrent_counts}\")"
   ]
  },
  {
   "cell_type": "markdown",
   "metadata": {},
   "source": [
    "# Sampling Estimator\n",
    "In order to estimate an expectation value of operators involves operators and states, you need to use a sampling_estimator. You can construct the concurrent sampler as same as the usual sampler with some additional inputs."
   ]
  },
  {
   "cell_type": "code",
   "execution_count": 6,
   "metadata": {},
   "outputs": [
    {
     "name": "stdout",
     "output_type": "stream",
     "text": [
      "0.25*Z0 + 2.0*Z1 Z2 + (0.5+0.25j)*X1 X2 + 1j*Z1 Y3 + (1.5+0.5j)*Z2 Y3 + 2j*X1 Y3 + 3.0*I\n"
     ]
    }
   ],
   "source": [
    "# define an operator to be estimated\n",
    "op = Operator({\n",
    "    pauli_label(\"Z0\"): 0.25,\n",
    "    pauli_label(\"Z1 Z2\"): 2.0,\n",
    "    pauli_label(\"X1 X2\"): 0.5 + 0.25j,\n",
    "    pauli_label(\"Z1 Y3\"): 1.0j,\n",
    "    pauli_label(\"Z2 Y3\"): 1.5 + 0.5j,\n",
    "    pauli_label(\"X1 Y3\"): 2.0j,\n",
    "    PAULI_IDENTITY: 3.0,\n",
    "})\n",
    "print(op)"
   ]
  },
  {
   "cell_type": "markdown",
   "metadata": {},
   "source": [
    "## Pauli grouping\n",
    "The operator is represented as a sum of Pauli operators. One of the ways to estimate expectation value of such an operator is to estimate expectation value of each Pauli term and then sum up them.\n",
    "\n",
    "When estimating the Pauli terms, it is possible to measure multiple Pauli terms at once if they are commutable. The first step is thus to group the Pauli terms into several sets of commutable Pauli terms. This Pauli grouping is an important research subject in context of operator estimation.\n",
    "\n",
    "One of the simplest Pauli grouping is bitwise grouping, where the groups are determined based on bitwise commutability of the Pauli terms. We can test the grouping as follows:"
   ]
  },
  {
   "cell_type": "code",
   "execution_count": 7,
   "metadata": {},
   "outputs": [
    {
     "name": "stdout",
     "output_type": "stream",
     "text": [
      "Number of groups: 5\n",
      "Group 0 contains: X1 Y3\n",
      "Group 1 contains: I\n",
      "Group 2 contains: X1 X2\n",
      "Group 3 contains: Z0, Z1 Z2\n",
      "Group 4 contains: Z2 Y3, Z1 Y3\n"
     ]
    }
   ],
   "source": [
    "from quri_parts.core.operator.grouping import bitwise_pauli_grouping\n",
    "pauli_sets = bitwise_pauli_grouping(op)\n",
    "print(f\"Number of groups: {len(pauli_sets)}\")\n",
    "for i, pauli_set in enumerate(pauli_sets):\n",
    "    labels = \", \".join([str(pauli) for pauli in pauli_set])\n",
    "    print(f\"Group {i} contains: {labels}\")"
   ]
  },
  {
   "cell_type": "markdown",
   "metadata": {},
   "source": [
    "## Shot allocator\n",
    "Another input necessary for estimation is PauliSamplingShotsAllocator: it specifies how total sampling shots should be allocated to measurement of each Pauli sets. There are several allocators available:"
   ]
  },
  {
   "cell_type": "code",
   "execution_count": 8,
   "metadata": {},
   "outputs": [],
   "source": [
    "from quri_parts.core.sampling.shots_allocator import (\n",
    "    create_equipartition_shots_allocator,\n",
    "    create_proportional_shots_allocator,\n",
    "    create_weighted_random_shots_allocator,\n",
    ")\n",
    "# Allocates shots equally among the Pauli sets\n",
    "allocator = create_equipartition_shots_allocator()\n",
    "# Allocates shots proportional to Pauli coefficients in the operator\n",
    "allocator = create_proportional_shots_allocator()\n",
    "# Allocates shots using random weights\n",
    "allocator = create_weighted_random_shots_allocator(seed=777)"
   ]
  },
  {
   "cell_type": "markdown",
   "metadata": {},
   "source": [
    "With these inputs, sampling estimation can be performed as follows:"
   ]
  },
  {
   "cell_type": "code",
   "execution_count": 9,
   "metadata": {},
   "outputs": [
    {
     "name": "stdout",
     "output_type": "stream",
     "text": [
      "estimated_value :(1.5357999999999998+0.18739999999999996j) \n"
     ]
    }
   ],
   "source": [
    "shots_allocator = create_equipartition_shots_allocator()\n",
    "measurement_factory = bitwise_commuting_pauli_measurement\n",
    "n_shots = 10000\n",
    "\n",
    "# create sampling estimator with above inputs\n",
    "sampling_estimator = challenge_sampling.create_sampling_estimator(\n",
    "    n_shots, measurement_factory, shots_allocator, hardware_type\n",
    ")\n",
    "\n",
    "# Since sampling_estimator measure for a quantum state, we prepare a circuit state.\n",
    "circuit_state = GeneralCircuitQuantumState(4, circuit)\n",
    "\n",
    "# this returns estimated value\n",
    "estimated_value = sampling_estimator(op, circuit_state)\n",
    "print(f\"estimated_value :{estimated_value.value} \")"
   ]
  },
  {
   "cell_type": "markdown",
   "metadata": {},
   "source": [
    "You can also construct the concurrent sampling_estimator as follows:"
   ]
  },
  {
   "cell_type": "code",
   "execution_count": 10,
   "metadata": {},
   "outputs": [
    {
     "name": "stdout",
     "output_type": "stream",
     "text": [
      "concurrent_estimated_value :((1.1236000000000002+0.1564j), (-0.11072-0.199104j)) \n"
     ]
    }
   ],
   "source": [
    "op2 = Operator({\n",
    "    pauli_label(\"Z0 Y2\"): 0.25 + 1.22j,\n",
    "    pauli_label(\"Z1 Y2\"): 1.4,\n",
    "    pauli_label(\"X0 X2\"): 0.2,\n",
    "})\n",
    "\n",
    "# create concurrent sampling estimator\n",
    "concurrent_estimator = challenge_sampling.create_concurrent_sampling_estimator(\n",
    "    n_shots, measurement_factory, shots_allocator, hardware_type\n",
    ")\n",
    "\n",
    "concurrent_v = concurrent_estimator([op, op2], [circuit_state])\n",
    "\n",
    "print(f\"concurrent_estimated_value :{concurrent_v[0].value, concurrent_v[1].value} \")"
   ]
  },
  {
   "cell_type": "markdown",
   "metadata": {},
   "source": [
    "## Parametric Sampling Estimator"
   ]
  },
  {
   "cell_type": "code",
   "execution_count": 11,
   "metadata": {},
   "outputs": [
    {
     "name": "stdout",
     "output_type": "stream",
     "text": [
      "estimated_value :(3.7232+0.04119999999999996j) \n",
      "concurrent_estimated_value :((4.1698+0.22519999999999998j), (0.7596-0.555j)) \n"
     ]
    }
   ],
   "source": [
    "from quri_parts.circuit import UnboundParametricQuantumCircuit\n",
    "from quri_parts.core.state import ParametricCircuitQuantumState\n",
    "\n",
    "p_circuit = UnboundParametricQuantumCircuit(4)\n",
    "p_circuit.add_H_gate(0)\n",
    "p_circuit.add_X_gate(1)\n",
    "p_circuit.add_T_gate(3)\n",
    "p_circuit.add_ParametricRX_gate(0)\n",
    "p_circuit.add_ParametricRY_gate(1)\n",
    "p_circuit.add_ParametricRZ_gate(3)\n",
    "\n",
    "params = [1,2,3]\n",
    "p_state = ParametricCircuitQuantumState(4, p_circuit)\n",
    "parametric_sampling_estimator = challenge_sampling.create_parametric_sampling_estimator(\n",
    "    n_shots,\n",
    "    measurement_factory,\n",
    "    shots_allocator,\n",
    "    hardware_type,\n",
    "    )\n",
    "estimated_value = parametric_sampling_estimator(op, p_state, params)\n",
    "print(f\"estimated_value :{estimated_value.value} \")\n",
    "\n",
    "# concurrent version\n",
    "\n",
    "parametric_concurrent_sampling_estimator = challenge_sampling.create_concurrent_parametric_sampling_estimator(\n",
    "    n_shots,\n",
    "    measurement_factory,\n",
    "    shots_allocator,\n",
    "    hardware_type,\n",
    "    )\n",
    "params2 = [0.1, 0.2, 0.3]\n",
    "estimated_values = parametric_concurrent_sampling_estimator(op, p_state, [params, params2])\n",
    "print(f\"concurrent_estimated_value :{estimated_values[0].value, estimated_values[1].value} \")"
   ]
  }
 ],
 "metadata": {
  "kernelspec": {
   "display_name": "Python 3.9.8 64-bit ('3.9.8')",
   "language": "python",
   "name": "python3"
  },
  "language_info": {
   "codemirror_mode": {
    "name": "ipython",
    "version": 3
   },
   "file_extension": ".py",
   "mimetype": "text/x-python",
   "name": "python",
   "nbconvert_exporter": "python",
   "pygments_lexer": "ipython3",
   "version": "3.9.8"
  },
  "orig_nbformat": 4,
  "vscode": {
   "interpreter": {
    "hash": "76ef2d858d8e467d5ee8f2094e44d7121b251fbb905b85b2756d95d600e7591f"
   }
  }
 },
 "nbformat": 4,
 "nbformat_minor": 2
}
