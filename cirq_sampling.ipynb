{
 "cells": [
  {
   "attachments": {},
   "cell_type": "markdown",
   "metadata": {},
   "source": [
    "# Tutorial for sampling using Cirq\n",
    "In this tutorial, we will look at tutorials of implementations using **Cirq**. Participants are recommended to read the `sampling.ipynb` beforehand.\n",
    "\n",
    "In QURI Parts, there are codes to convert **Cirq** circuits and operators to **QURI Parts**. When implementing with **Cirq**, you can use these codes to use the provided sampling function with cirq circuits and operators. Let's actually implement it."
   ]
  },
  {
   "attachments": {},
   "cell_type": "markdown",
   "metadata": {},
   "source": [
    "## ChallengeSampling"
   ]
  },
  {
   "cell_type": "code",
   "execution_count": 18,
   "metadata": {},
   "outputs": [],
   "source": [
    "import sys\n",
    "\n",
    "sys.path.append(\"../\")\n",
    "from utils.challenge_2023 import ChallengeSampling\n",
    "\n",
    "# define challenge_sampling with or without noise\n",
    "challenge_sampling = ChallengeSampling(noise=True)"
   ]
  },
  {
   "attachments": {},
   "cell_type": "markdown",
   "metadata": {},
   "source": [
    "# Sampler"
   ]
  },
  {
   "attachments": {},
   "cell_type": "markdown",
   "metadata": {},
   "source": [
    "### Prepare a Cirq circuit"
   ]
  },
  {
   "cell_type": "code",
   "execution_count": 19,
   "metadata": {},
   "outputs": [],
   "source": [
    "from cirq.circuits.circuit import Circuit as CirqCircuit\n",
    "from cirq.devices.line_qubit import LineQubit\n",
    "from cirq.ops.common_gates import CNOT, H, Rz\n",
    "from cirq.ops.pauli_gates import X, Y\n",
    "from math import pi\n",
    "\n",
    "cirq_circuit = CirqCircuit()\n",
    "q0 = LineQubit(0)\n",
    "q1 = LineQubit(1)\n",
    "q2 = LineQubit(2)\n",
    "q3 = LineQubit(3)\n",
    "\n",
    "cirq_circuit.append(\n",
    "    [\n",
    "        X(q0),\n",
    "        H(q1),\n",
    "        Y(q2),\n",
    "        CNOT(q1, q2),\n",
    "        Rz(rads=pi/4).on(q3),\n",
    "    ]\n",
    ")"
   ]
  },
  {
   "attachments": {},
   "cell_type": "markdown",
   "metadata": {},
   "source": [
    "You can use `circuit_from_cirq()` to convert the cirq circuit to the quri-parts circuit as follows:"
   ]
  },
  {
   "cell_type": "code",
   "execution_count": 20,
   "metadata": {},
   "outputs": [],
   "source": [
    "from quri_parts.cirq.circuit.cirq_circuit_converter import circuit_from_cirq\n",
    "\n",
    "quri_parts_circuit = circuit_from_cirq(cirq_circuit)"
   ]
  },
  {
   "attachments": {},
   "cell_type": "markdown",
   "metadata": {},
   "source": [
    "Then you can use the sampler in the same way as in quri-parts case."
   ]
  },
  {
   "cell_type": "code",
   "execution_count": 21,
   "metadata": {},
   "outputs": [
    {
     "name": "stdout",
     "output_type": "stream",
     "text": [
      "counts: Counter({5: 492, 3: 441, 1: 22, 7: 18, 11: 9, 4: 7, 13: 6, 2: 5})\n"
     ]
    }
   ],
   "source": [
    "# choose hardware type\n",
    "hardware_type = \"sc\"\n",
    "\n",
    "# create sampler\n",
    "sampler = challenge_sampling.create_sampler(hardware_type)\n",
    "# possible to choose Qiksit circuits as an input\n",
    "sampling_result = sampler(quri_parts_circuit, n_shots=1000)\n",
    "print(f\"counts: {sampling_result}\")"
   ]
  },
  {
   "attachments": {},
   "cell_type": "markdown",
   "metadata": {},
   "source": [
    "# Sampling Estimator\n",
    "In order to estimate an expectation value of operators involves operators and states, you need to use a sampling_estimator. You can use `operator_from_cirq_op()` to convert the cirq operator to the quri-parts operator as follows:"
   ]
  },
  {
   "attachments": {},
   "cell_type": "markdown",
   "metadata": {},
   "source": [
    "### Prepare a Cirq operator"
   ]
  },
  {
   "cell_type": "code",
   "execution_count": 22,
   "metadata": {},
   "outputs": [
    {
     "name": "stdout",
     "output_type": "stream",
     "text": [
      "(0.250+1.220j)*Z(q(0))+2.000*Z(q(1))*Z(q(2))+(0.500+0.250j)*X(q(0))*X(q(3))\n"
     ]
    }
   ],
   "source": [
    "from cirq.ops.linear_combinations import PauliSum\n",
    "from cirq.ops.pauli_gates import X, Y, Z\n",
    "from cirq.ops.pauli_string import PauliString\n",
    "\n",
    "cirq_operator = PauliSum.from_pauli_strings(\n",
    "        [\n",
    "            PauliString(0.25 + 1.22j, Z(q0)),\n",
    "            PauliString(2.0, Z(q1), Z(q2)),\n",
    "            PauliString(0.5 + 0.25j, X(q0), X(q3)),\n",
    "        ]\n",
    "    )\n",
    "print(cirq_operator)"
   ]
  },
  {
   "attachments": {},
   "cell_type": "markdown",
   "metadata": {},
   "source": [
    "You can use `operator_from_cirq_op()` to convert the cirq operator to the quri-parts operator as follows:"
   ]
  },
  {
   "cell_type": "code",
   "execution_count": 23,
   "metadata": {},
   "outputs": [],
   "source": [
    "from quri_parts.cirq.operator import operator_from_cirq_op\n",
    "\n",
    "quri_parts_operator = operator_from_cirq_op(cirq_operator)"
   ]
  },
  {
   "attachments": {},
   "cell_type": "markdown",
   "metadata": {},
   "source": [
    "Then you can use the sampling_estimator in the same way as in quri-parts case."
   ]
  },
  {
   "cell_type": "code",
   "execution_count": 24,
   "metadata": {},
   "outputs": [
    {
     "name": "stdout",
     "output_type": "stream",
     "text": [
      "estimated_value :-2.1091 \n"
     ]
    }
   ],
   "source": [
    "from quri_parts.core.measurement import bitwise_commuting_pauli_measurement\n",
    "from quri_parts.core.sampling.shots_allocator import create_equipartition_shots_allocator\n",
    "from quri_parts.core.state import GeneralCircuitQuantumState\n",
    "\n",
    "shots_allocator = create_equipartition_shots_allocator()\n",
    "measurement_factory = bitwise_commuting_pauli_measurement\n",
    "\n",
    "circuit_state = GeneralCircuitQuantumState(4, quri_parts_circuit)\n",
    "\n",
    "# returns estimated value using above inputs\n",
    "estimated_value = challenge_sampling.sampling_estimator(\n",
    "    operator=quri_parts_operator,\n",
    "    state_or_circuit=circuit_state,\n",
    "    n_shots=10000,\n",
    "    measurement_factory=measurement_factory,\n",
    "    shots_allocator=shots_allocator,\n",
    "    hardware_type=\"sc\",\n",
    ")\n",
    "\n",
    "# returns real part of estimated value\n",
    "print(f\"estimated_value :{estimated_value.value.real} \")"
   ]
  }
 ],
 "metadata": {
  "kernelspec": {
   "display_name": "Python 3",
   "language": "python",
   "name": "python3"
  },
  "language_info": {
   "codemirror_mode": {
    "name": "ipython",
    "version": 3
   },
   "file_extension": ".py",
   "mimetype": "text/x-python",
   "name": "python",
   "nbconvert_exporter": "python",
   "pygments_lexer": "ipython3",
   "version": "3.9.8"
  },
  "orig_nbformat": 4
 },
 "nbformat": 4,
 "nbformat_minor": 2
}
